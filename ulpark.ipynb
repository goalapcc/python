{
  "nbformat": 4,
  "nbformat_minor": 0,
  "metadata": {
    "kernelspec": {
      "display_name": "Python 3",
      "language": "python",
      "name": "python3"
    },
    "language_info": {
      "codemirror_mode": {
        "name": "ipython",
        "version": 3
      },
      "file_extension": ".py",
      "mimetype": "text/x-python",
      "name": "python",
      "nbconvert_exporter": "python",
      "pygments_lexer": "ipython3",
      "version": "3.6.1"
    },
    "varInspector": {
      "cols": {
        "lenName": 16,
        "lenType": 16,
        "lenVar": 40
      },
      "kernels_config": {
        "python": {
          "delete_cmd_postfix": "",
          "delete_cmd_prefix": "del ",
          "library": "var_list.py",
          "varRefreshCmd": "print(var_dic_list())"
        },
        "r": {
          "delete_cmd_postfix": ") ",
          "delete_cmd_prefix": "rm(",
          "library": "var_list.r",
          "varRefreshCmd": "cat(var_dic_list()) "
        }
      },
      "types_to_exclude": [
        "module",
        "function",
        "builtin_function_or_method",
        "instance",
        "_Feature"
      ],
      "window_display": false
    },
    "colab": {
      "name": "ulpark",
      "provenance": [],
      "include_colab_link": true
    }
  },
  "cells": [
    {
      "cell_type": "markdown",
      "metadata": {
        "id": "view-in-github",
        "colab_type": "text"
      },
      "source": [
        "<a href=\"https://colab.research.google.com/github/jobsiggang/desktop-tutorial/blob/master/ulpark.ipynb\" target=\"_parent\"><img src=\"https://colab.research.google.com/assets/colab-badge.svg\" alt=\"Open In Colab\"/></a>"
      ]
    },
    {
      "cell_type": "markdown",
      "metadata": {
        "id": "N27LePZhWq5w",
        "colab_type": "text"
      },
      "source": [
        "# 전국 도시 공원 표준 데이터\n",
        "https://www.data.go.kr/dataset/15012890/standard.do\n",
        "* 전국 도시공원에 대한 분포를 시각화해 봅니다.\n",
        "* 어떤 공원이 어느 지역에 어떻게 분포되어 있는지를 경도로 표현해 봅니다.\n",
        "* 실습을 위해 나눔고딕 폰트가 설치되어 있어야 합니다.\n",
        "* 이 노트북에서는 pandas, plotnine을 사용합니다.\n",
        "\n",
        "## 그 외 도시공원 데이터\n",
        "* 공공데이터 포털에 확인해 보니 전국도시공원표준데이터.xls 외에 202개의 파일이 더 있습니다. \n",
        "* https://www.data.go.kr/dataset/15012890/standard.do\n",
        "\n",
        "## 튜토리얼 영상\n",
        "* YouTube 재생목록 : https://www.youtube.com/playlist?list=PLaTc2c6yEwmr6pPq8Ht9ONtBzOvdVu0gf"
      ]
    },
    {
      "cell_type": "markdown",
      "metadata": {
        "id": "oLIC7xf6Wq5y",
        "colab_type": "text"
      },
      "source": [
        "## !중요\n",
        "### 버전과 한글폰트\n",
        "* 한글폰트 사용하기 : http://corazzon.github.io/matplotlib_font_setting"
      ]
    },
    {
      "cell_type": "code",
      "metadata": {
        "id": "9tiwLMFxWq5z",
        "colab_type": "code",
        "colab": {}
      },
      "source": [
        "# 아래의 버전에 의존성이 있습니다. \n",
        "# 다음의 버전으로 설치해 주세요.\n",
        "# !pip install plotnine==0.5.0\n",
        "# !pip install –upgrade pandas==0.23.4\n",
        "# !pip install folium==0.5.0"
      ],
      "execution_count": null,
      "outputs": []
    },
    {
      "cell_type": "code",
      "metadata": {
        "id": "Nlrca_ykWq56",
        "colab_type": "code",
        "colab": {
          "base_uri": "https://localhost:8080/",
          "height": 224
        },
        "outputId": "9da908a4-9e41-402f-a093-618ac8ddd969"
      },
      "source": [
        " !pip show pandas"
      ],
      "execution_count": null,
      "outputs": [
        {
          "output_type": "stream",
          "text": [
            "Name: pandas\n",
            "Version: 1.0.4\n",
            "Summary: Powerful data structures for data analysis, time series, and statistics\n",
            "Home-page: https://pandas.pydata.org\n",
            "Author: None\n",
            "Author-email: None\n",
            "License: BSD\n",
            "Location: /usr/local/lib/python3.6/dist-packages\n",
            "Requires: python-dateutil, pytz, numpy\n",
            "Required-by: xarray, vega-datasets, statsmodels, sklearn-pandas, seaborn, pymc3, plotnine, pandas-profiling, pandas-gbq, pandas-datareader, mlxtend, mizani, gspread-dataframe, google-colab, fix-yahoo-finance, featuretools, fbprophet, fastai, cufflinks, cmdstanpy, altair\n"
          ],
          "name": "stdout"
        }
      ]
    },
    {
      "cell_type": "code",
      "metadata": {
        "id": "QAJdEAMEWq5-",
        "colab_type": "code",
        "colab": {
          "base_uri": "https://localhost:8080/",
          "height": 218
        },
        "outputId": "0816c1ef-1856-4c76-e312-a7058388606f"
      },
      "source": [
        "!pip show numpy"
      ],
      "execution_count": null,
      "outputs": [
        {
          "output_type": "stream",
          "text": [
            "Name: numpy\n",
            "Version: 1.18.5\n",
            "Summary: NumPy is the fundamental package for array computing with Python.\n",
            "Home-page: https://www.numpy.org\n",
            "Author: Travis E. Oliphant et al.\n",
            "Author-email: None\n",
            "License: BSD\n",
            "Location: /usr/local/lib/python3.6/dist-packages\n",
            "Requires: \n",
            "Required-by: yellowbrick, xgboost, xarray, wordcloud, umap-learn, torchvision, torchtext, torch, tifffile, thinc, Theano, tensorflow, tensorflow-probability, tensorflow-hub, tensorflow-datasets, tensorboard, tables, statsmodels, spacy, sklearn-pandas, seaborn, scs, scipy, scikit-learn, resampy, PyWavelets, python-louvain, pystan, pysndfile, pymc3, pyemd, pyarrow, plotnine, patsy, pandas, osqp, opt-einsum, opencv-python, opencv-contrib-python, numexpr, numba, np-utils, nibabel, moviepy, mlxtend, mizani, missingno, matplotlib, matplotlib-venn, lucid, lightgbm, librosa, knnimpute, Keras, Keras-Preprocessing, Keras-Applications, kapre, jpeg4py, jaxlib, jax, imgaug, imbalanced-learn, imageio, hyperopt, h5py, gym, gensim, folium, fix-yahoo-finance, featuretools, fbprophet, fastdtw, fastai, fancyimpute, fa2, ecos, daft, cvxpy, cufflinks, cmdstanpy, chainer, Bottleneck, bokeh, blis, autograd, atari-py, astropy, altair, albumentations\n"
          ],
          "name": "stdout"
        }
      ]
    },
    {
      "cell_type": "code",
      "metadata": {
        "id": "sNBBY1SvWq6D",
        "colab_type": "code",
        "colab": {
          "base_uri": "https://localhost:8080/",
          "height": 198
        },
        "outputId": "a75e6a1a-44bd-4a80-86f8-27a91bc53bdf"
      },
      "source": [
        "!pip show plotnine"
      ],
      "execution_count": null,
      "outputs": [
        {
          "output_type": "stream",
          "text": [
            "Name: plotnine\n",
            "Version: 0.6.0\n",
            "Summary: A grammar of graphics for python\n",
            "Home-page: https://github.com/has2k1/plotnine\n",
            "Author: None\n",
            "Author-email: None\n",
            "License: GPL-2\n",
            "Location: /usr/local/lib/python3.6/dist-packages\n",
            "Requires: mizani, matplotlib, scipy, descartes, numpy, patsy, pandas, statsmodels\n",
            "Required-by: \n"
          ],
          "name": "stdout"
        }
      ]
    },
    {
      "cell_type": "code",
      "metadata": {
        "id": "69SSElE4Wq6G",
        "colab_type": "code",
        "colab": {
          "base_uri": "https://localhost:8080/",
          "height": 204
        },
        "outputId": "3536b32e-779d-4290-f56e-bc0c8cd6aa10"
      },
      "source": [
        "!pip show folium"
      ],
      "execution_count": null,
      "outputs": [
        {
          "output_type": "stream",
          "text": [
            "Name: folium\n",
            "Version: 0.8.3\n",
            "Summary: Make beautiful maps with Leaflet.js & Python\n",
            "Home-page: https://github.com/python-visualization/folium\n",
            "Author: Rob Story\n",
            "Author-email: wrobstory@gmail.com\n",
            "License: MIT\n",
            "Location: /usr/local/lib/python3.6/dist-packages\n",
            "Requires: numpy, six, jinja2, branca, requests\n",
            "Required-by: datascience\n"
          ],
          "name": "stdout"
        }
      ]
    },
    {
      "cell_type": "markdown",
      "metadata": {
        "id": "kScalgrIWq6J",
        "colab_type": "text"
      },
      "source": [
        "## 분석에 사용할 도구를 불러옵니다."
      ]
    },
    {
      "cell_type": "code",
      "metadata": {
        "id": "-ZDSHiXXWq6L",
        "colab_type": "code",
        "colab": {}
      },
      "source": [
        "import warnings\n",
        "warnings.filterwarnings('ignore')"
      ],
      "execution_count": null,
      "outputs": []
    },
    {
      "cell_type": "code",
      "metadata": {
        "id": "PT45dwVLWq6O",
        "colab_type": "code",
        "colab": {}
      },
      "source": [
        "import pandas as pd\n",
        "import numpy as np\n",
        "from plotnine import *\n",
        "import re\n",
        "\n",
        "# 지도 표현을 위해\n",
        "import folium"
      ],
      "execution_count": null,
      "outputs": []
    },
    {
      "cell_type": "markdown",
      "metadata": {
        "id": "rguqqH7HWq6T",
        "colab_type": "text"
      },
      "source": [
        "## 데이터 로드"
      ]
    },
    {
      "cell_type": "code",
      "metadata": {
        "id": "b8ipo_3eWq6T",
        "colab_type": "code",
        "colab": {
          "base_uri": "https://localhost:8080/",
          "height": 341
        },
        "outputId": "ae03b42f-7165-4ec3-f149-b3c9d1db0fa8"
      },
      "source": [
        "park = pd.read_csv('data/전국도시공원표준데이터.csv', encoding='euc-kr')\n",
        "park.shape"
      ],
      "execution_count": null,
      "outputs": [
        {
          "output_type": "error",
          "ename": "FileNotFoundError",
          "evalue": "ignored",
          "traceback": [
            "\u001b[0;31m---------------------------------------------------------------------------\u001b[0m",
            "\u001b[0;31mFileNotFoundError\u001b[0m                         Traceback (most recent call last)",
            "\u001b[0;32m<ipython-input-13-3d2dbdebc35c>\u001b[0m in \u001b[0;36m<module>\u001b[0;34m()\u001b[0m\n\u001b[0;32m----> 1\u001b[0;31m \u001b[0mpark\u001b[0m \u001b[0;34m=\u001b[0m \u001b[0mpd\u001b[0m\u001b[0;34m.\u001b[0m\u001b[0mread_csv\u001b[0m\u001b[0;34m(\u001b[0m\u001b[0;34m'data/전국도시공원표준데이터.csv'\u001b[0m\u001b[0;34m,\u001b[0m \u001b[0mencoding\u001b[0m\u001b[0;34m=\u001b[0m\u001b[0;34m'euc-kr'\u001b[0m\u001b[0;34m)\u001b[0m\u001b[0;34m\u001b[0m\u001b[0;34m\u001b[0m\u001b[0m\n\u001b[0m\u001b[1;32m      2\u001b[0m \u001b[0mpark\u001b[0m\u001b[0;34m.\u001b[0m\u001b[0mshape\u001b[0m\u001b[0;34m\u001b[0m\u001b[0;34m\u001b[0m\u001b[0m\n",
            "\u001b[0;32m/usr/local/lib/python3.6/dist-packages/pandas/io/parsers.py\u001b[0m in \u001b[0;36mparser_f\u001b[0;34m(filepath_or_buffer, sep, delimiter, header, names, index_col, usecols, squeeze, prefix, mangle_dupe_cols, dtype, engine, converters, true_values, false_values, skipinitialspace, skiprows, skipfooter, nrows, na_values, keep_default_na, na_filter, verbose, skip_blank_lines, parse_dates, infer_datetime_format, keep_date_col, date_parser, dayfirst, cache_dates, iterator, chunksize, compression, thousands, decimal, lineterminator, quotechar, quoting, doublequote, escapechar, comment, encoding, dialect, error_bad_lines, warn_bad_lines, delim_whitespace, low_memory, memory_map, float_precision)\u001b[0m\n\u001b[1;32m    674\u001b[0m         )\n\u001b[1;32m    675\u001b[0m \u001b[0;34m\u001b[0m\u001b[0m\n\u001b[0;32m--> 676\u001b[0;31m         \u001b[0;32mreturn\u001b[0m \u001b[0m_read\u001b[0m\u001b[0;34m(\u001b[0m\u001b[0mfilepath_or_buffer\u001b[0m\u001b[0;34m,\u001b[0m \u001b[0mkwds\u001b[0m\u001b[0;34m)\u001b[0m\u001b[0;34m\u001b[0m\u001b[0;34m\u001b[0m\u001b[0m\n\u001b[0m\u001b[1;32m    677\u001b[0m \u001b[0;34m\u001b[0m\u001b[0m\n\u001b[1;32m    678\u001b[0m     \u001b[0mparser_f\u001b[0m\u001b[0;34m.\u001b[0m\u001b[0m__name__\u001b[0m \u001b[0;34m=\u001b[0m \u001b[0mname\u001b[0m\u001b[0;34m\u001b[0m\u001b[0;34m\u001b[0m\u001b[0m\n",
            "\u001b[0;32m/usr/local/lib/python3.6/dist-packages/pandas/io/parsers.py\u001b[0m in \u001b[0;36m_read\u001b[0;34m(filepath_or_buffer, kwds)\u001b[0m\n\u001b[1;32m    446\u001b[0m \u001b[0;34m\u001b[0m\u001b[0m\n\u001b[1;32m    447\u001b[0m     \u001b[0;31m# Create the parser.\u001b[0m\u001b[0;34m\u001b[0m\u001b[0;34m\u001b[0m\u001b[0;34m\u001b[0m\u001b[0m\n\u001b[0;32m--> 448\u001b[0;31m     \u001b[0mparser\u001b[0m \u001b[0;34m=\u001b[0m \u001b[0mTextFileReader\u001b[0m\u001b[0;34m(\u001b[0m\u001b[0mfp_or_buf\u001b[0m\u001b[0;34m,\u001b[0m \u001b[0;34m**\u001b[0m\u001b[0mkwds\u001b[0m\u001b[0;34m)\u001b[0m\u001b[0;34m\u001b[0m\u001b[0;34m\u001b[0m\u001b[0m\n\u001b[0m\u001b[1;32m    449\u001b[0m \u001b[0;34m\u001b[0m\u001b[0m\n\u001b[1;32m    450\u001b[0m     \u001b[0;32mif\u001b[0m \u001b[0mchunksize\u001b[0m \u001b[0;32mor\u001b[0m \u001b[0miterator\u001b[0m\u001b[0;34m:\u001b[0m\u001b[0;34m\u001b[0m\u001b[0;34m\u001b[0m\u001b[0m\n",
            "\u001b[0;32m/usr/local/lib/python3.6/dist-packages/pandas/io/parsers.py\u001b[0m in \u001b[0;36m__init__\u001b[0;34m(self, f, engine, **kwds)\u001b[0m\n\u001b[1;32m    878\u001b[0m             \u001b[0mself\u001b[0m\u001b[0;34m.\u001b[0m\u001b[0moptions\u001b[0m\u001b[0;34m[\u001b[0m\u001b[0;34m\"has_index_names\"\u001b[0m\u001b[0;34m]\u001b[0m \u001b[0;34m=\u001b[0m \u001b[0mkwds\u001b[0m\u001b[0;34m[\u001b[0m\u001b[0;34m\"has_index_names\"\u001b[0m\u001b[0;34m]\u001b[0m\u001b[0;34m\u001b[0m\u001b[0;34m\u001b[0m\u001b[0m\n\u001b[1;32m    879\u001b[0m \u001b[0;34m\u001b[0m\u001b[0m\n\u001b[0;32m--> 880\u001b[0;31m         \u001b[0mself\u001b[0m\u001b[0;34m.\u001b[0m\u001b[0m_make_engine\u001b[0m\u001b[0;34m(\u001b[0m\u001b[0mself\u001b[0m\u001b[0;34m.\u001b[0m\u001b[0mengine\u001b[0m\u001b[0;34m)\u001b[0m\u001b[0;34m\u001b[0m\u001b[0;34m\u001b[0m\u001b[0m\n\u001b[0m\u001b[1;32m    881\u001b[0m \u001b[0;34m\u001b[0m\u001b[0m\n\u001b[1;32m    882\u001b[0m     \u001b[0;32mdef\u001b[0m \u001b[0mclose\u001b[0m\u001b[0;34m(\u001b[0m\u001b[0mself\u001b[0m\u001b[0;34m)\u001b[0m\u001b[0;34m:\u001b[0m\u001b[0;34m\u001b[0m\u001b[0;34m\u001b[0m\u001b[0m\n",
            "\u001b[0;32m/usr/local/lib/python3.6/dist-packages/pandas/io/parsers.py\u001b[0m in \u001b[0;36m_make_engine\u001b[0;34m(self, engine)\u001b[0m\n\u001b[1;32m   1112\u001b[0m     \u001b[0;32mdef\u001b[0m \u001b[0m_make_engine\u001b[0m\u001b[0;34m(\u001b[0m\u001b[0mself\u001b[0m\u001b[0;34m,\u001b[0m \u001b[0mengine\u001b[0m\u001b[0;34m=\u001b[0m\u001b[0;34m\"c\"\u001b[0m\u001b[0;34m)\u001b[0m\u001b[0;34m:\u001b[0m\u001b[0;34m\u001b[0m\u001b[0;34m\u001b[0m\u001b[0m\n\u001b[1;32m   1113\u001b[0m         \u001b[0;32mif\u001b[0m \u001b[0mengine\u001b[0m \u001b[0;34m==\u001b[0m \u001b[0;34m\"c\"\u001b[0m\u001b[0;34m:\u001b[0m\u001b[0;34m\u001b[0m\u001b[0;34m\u001b[0m\u001b[0m\n\u001b[0;32m-> 1114\u001b[0;31m             \u001b[0mself\u001b[0m\u001b[0;34m.\u001b[0m\u001b[0m_engine\u001b[0m \u001b[0;34m=\u001b[0m \u001b[0mCParserWrapper\u001b[0m\u001b[0;34m(\u001b[0m\u001b[0mself\u001b[0m\u001b[0;34m.\u001b[0m\u001b[0mf\u001b[0m\u001b[0;34m,\u001b[0m \u001b[0;34m**\u001b[0m\u001b[0mself\u001b[0m\u001b[0;34m.\u001b[0m\u001b[0moptions\u001b[0m\u001b[0;34m)\u001b[0m\u001b[0;34m\u001b[0m\u001b[0;34m\u001b[0m\u001b[0m\n\u001b[0m\u001b[1;32m   1115\u001b[0m         \u001b[0;32melse\u001b[0m\u001b[0;34m:\u001b[0m\u001b[0;34m\u001b[0m\u001b[0;34m\u001b[0m\u001b[0m\n\u001b[1;32m   1116\u001b[0m             \u001b[0;32mif\u001b[0m \u001b[0mengine\u001b[0m \u001b[0;34m==\u001b[0m \u001b[0;34m\"python\"\u001b[0m\u001b[0;34m:\u001b[0m\u001b[0;34m\u001b[0m\u001b[0;34m\u001b[0m\u001b[0m\n",
            "\u001b[0;32m/usr/local/lib/python3.6/dist-packages/pandas/io/parsers.py\u001b[0m in \u001b[0;36m__init__\u001b[0;34m(self, src, **kwds)\u001b[0m\n\u001b[1;32m   1872\u001b[0m         \u001b[0;32mif\u001b[0m \u001b[0mkwds\u001b[0m\u001b[0;34m.\u001b[0m\u001b[0mget\u001b[0m\u001b[0;34m(\u001b[0m\u001b[0;34m\"compression\"\u001b[0m\u001b[0;34m)\u001b[0m \u001b[0;32mis\u001b[0m \u001b[0;32mNone\u001b[0m \u001b[0;32mand\u001b[0m \u001b[0mencoding\u001b[0m\u001b[0;34m:\u001b[0m\u001b[0;34m\u001b[0m\u001b[0;34m\u001b[0m\u001b[0m\n\u001b[1;32m   1873\u001b[0m             \u001b[0;32mif\u001b[0m \u001b[0misinstance\u001b[0m\u001b[0;34m(\u001b[0m\u001b[0msrc\u001b[0m\u001b[0;34m,\u001b[0m \u001b[0mstr\u001b[0m\u001b[0;34m)\u001b[0m\u001b[0;34m:\u001b[0m\u001b[0;34m\u001b[0m\u001b[0;34m\u001b[0m\u001b[0m\n\u001b[0;32m-> 1874\u001b[0;31m                 \u001b[0msrc\u001b[0m \u001b[0;34m=\u001b[0m \u001b[0mopen\u001b[0m\u001b[0;34m(\u001b[0m\u001b[0msrc\u001b[0m\u001b[0;34m,\u001b[0m \u001b[0;34m\"rb\"\u001b[0m\u001b[0;34m)\u001b[0m\u001b[0;34m\u001b[0m\u001b[0;34m\u001b[0m\u001b[0m\n\u001b[0m\u001b[1;32m   1875\u001b[0m                 \u001b[0mself\u001b[0m\u001b[0;34m.\u001b[0m\u001b[0mhandles\u001b[0m\u001b[0;34m.\u001b[0m\u001b[0mappend\u001b[0m\u001b[0;34m(\u001b[0m\u001b[0msrc\u001b[0m\u001b[0;34m)\u001b[0m\u001b[0;34m\u001b[0m\u001b[0;34m\u001b[0m\u001b[0m\n\u001b[1;32m   1876\u001b[0m \u001b[0;34m\u001b[0m\u001b[0m\n",
            "\u001b[0;31mFileNotFoundError\u001b[0m: [Errno 2] No such file or directory: 'data/전국도시공원표준데이터.csv'"
          ]
        }
      ]
    },
    {
      "cell_type": "code",
      "metadata": {
        "id": "IYOI_xwQWq6W",
        "colab_type": "code",
        "colab": {}
      },
      "source": [
        "park.head(7)"
      ],
      "execution_count": null,
      "outputs": []
    },
    {
      "cell_type": "code",
      "metadata": {
        "id": "VWPx_6hkWq6Z",
        "colab_type": "code",
        "colab": {}
      },
      "source": [
        "park.info()"
      ],
      "execution_count": null,
      "outputs": []
    },
    {
      "cell_type": "code",
      "metadata": {
        "id": "4kjatMVKWq6d",
        "colab_type": "code",
        "colab": {}
      },
      "source": [
        "park.isnull().sum()"
      ],
      "execution_count": null,
      "outputs": []
    },
    {
      "cell_type": "code",
      "metadata": {
        "id": "8Zt4JsuxWq6h",
        "colab_type": "code",
        "colab": {}
      },
      "source": [
        "import matplotlib.pyplot as plt\n",
        "from IPython.display import set_matplotlib_formats\n",
        "\n",
        "# Window 의 한글 폰트 설정\n",
        "# plt.rc('font',family='Malgun Gothic')\n",
        "# Mac 의 한글 폰트 설정\n",
        "plt.rc('font', family='AppleGothic') \n",
        "plt.rc('axes', unicode_minus=False)\n",
        "\n",
        "set_matplotlib_formats('retina')"
      ],
      "execution_count": null,
      "outputs": []
    },
    {
      "cell_type": "code",
      "metadata": {
        "id": "jAgoxxsHWq6k",
        "colab_type": "code",
        "colab": {}
      },
      "source": [
        "import missingno as msno\n",
        "\n",
        "msno.matrix(park)"
      ],
      "execution_count": null,
      "outputs": []
    },
    {
      "cell_type": "markdown",
      "metadata": {
        "id": "HtJw_8gKWq6n",
        "colab_type": "text"
      },
      "source": [
        "## 불필요한 컬럼 제거하기"
      ]
    },
    {
      "cell_type": "code",
      "metadata": {
        "id": "zcF42V0eWq6n",
        "colab_type": "code",
        "colab": {}
      },
      "source": [
        "park.columns"
      ],
      "execution_count": null,
      "outputs": []
    },
    {
      "cell_type": "code",
      "metadata": {
        "id": "buCMZVJKWq6q",
        "colab_type": "code",
        "colab": {}
      },
      "source": [
        "# 메소드 뒤에 ?를 하면 자기호출 이라는 기능을 통해 메소드의 docstring을 출력합니다.\n",
        "# 메소드의 ()괄호 안에서 Shift + Tab키를 눌러도 같은 문서를 열어볼 수 있습니다.\n",
        "# Shift + Tab + Tab 을 하게 되면 팝업창을 키울 수 있습니다.\n",
        "# park.drop?"
      ],
      "execution_count": null,
      "outputs": []
    },
    {
      "cell_type": "code",
      "metadata": {
        "id": "20-H7j1cWq6t",
        "colab_type": "code",
        "colab": {}
      },
      "source": [
        "park.drop(columns=['공원보유시설(운동시설)', '공원보유시설(유희시설)', '공원보유시설(편익시설)', '공원보유시설(교양시설)',\n",
        "       '공원보유시설(기타시설)', '지정고시일', '관리기관명', 'Unnamed: 17'], inplace=True)"
      ],
      "execution_count": null,
      "outputs": []
    },
    {
      "cell_type": "code",
      "metadata": {
        "id": "puMS5MMtWq6v",
        "colab_type": "code",
        "colab": {}
      },
      "source": [
        "park.shape"
      ],
      "execution_count": null,
      "outputs": []
    },
    {
      "cell_type": "markdown",
      "metadata": {
        "id": "HxDSfz5rWq6z",
        "colab_type": "text"
      },
      "source": [
        "## 위경도 시각화"
      ]
    },
    {
      "cell_type": "code",
      "metadata": {
        "id": "71sMS_a5Wq60",
        "colab_type": "code",
        "colab": {}
      },
      "source": [
        "# 지도를 출력해 보니 특정 지역만 있습니다.\n",
        "# 결측치인 nan 데이터 때문에 다른 데이터가 제대로 보이지 않습니다.\n",
        "# nan 데이터를 제거하고 다시 그려봅니다.\n",
        "(ggplot(park)\n",
        " + aes(x='경도', y='위도')\n",
        " + geom_point()\n",
        " + theme(text=element_text(family='NanumBarunGothic'))\n",
        ")"
      ],
      "execution_count": null,
      "outputs": []
    },
    {
      "cell_type": "markdown",
      "metadata": {
        "id": "X9uN1O5mWq63",
        "colab_type": "text"
      },
      "source": [
        "# 데이터 전처리\n",
        "* 시도 결측치 처리\n",
        "    * 다른 데이터로 대체\n",
        "    * 도로명 혹은 지번 둘 중 하나만 있다면 있는 데이터로 대체\n",
        "* 아웃라이어 데이터 제거 혹은 대체\n",
        "    * 위경도가 국내 범위를 벗어나는 데이터의 경우 제외하고 그리도록 처리"
      ]
    },
    {
      "cell_type": "code",
      "metadata": {
        "id": "6bieJ50bWq64",
        "colab_type": "code",
        "colab": {}
      },
      "source": [
        "park.dtypes"
      ],
      "execution_count": null,
      "outputs": []
    },
    {
      "cell_type": "code",
      "metadata": {
        "id": "F6pGaeNuWq66",
        "colab_type": "code",
        "colab": {}
      },
      "source": [
        "park['공원면적'] = park['공원면적'].str.replace(',', '').astype(float)\n",
        "park['공원면적'].head()"
      ],
      "execution_count": null,
      "outputs": []
    },
    {
      "cell_type": "code",
      "metadata": {
        "id": "vzlYXLsiWq69",
        "colab_type": "code",
        "colab": {}
      },
      "source": [
        "park['공원면적비율'] = park['공원면적'].apply(lambda x : np.sqrt(x)*0.01)\n",
        "park['공원면적비율'].head()"
      ],
      "execution_count": null,
      "outputs": []
    },
    {
      "cell_type": "code",
      "metadata": {
        "id": "GkDixYc4Wq6_",
        "colab_type": "code",
        "colab": {}
      },
      "source": [
        "# 도로명 주소의 널값 수\n",
        "park['소재지도로명주소'].isnull().sum()"
      ],
      "execution_count": null,
      "outputs": []
    },
    {
      "cell_type": "code",
      "metadata": {
        "id": "l4une7wHWq7C",
        "colab_type": "code",
        "colab": {}
      },
      "source": [
        "# 지번 주소의 널값 수\n",
        "park['소재지지번주소'].isnull().sum()"
      ],
      "execution_count": null,
      "outputs": []
    },
    {
      "cell_type": "code",
      "metadata": {
        "id": "ewPzUiP2Wq7H",
        "colab_type": "code",
        "colab": {}
      },
      "source": [
        "park.loc[(park['소재지도로명주소'].isnull()) & (park['소재지지번주소'].notnull())].shape"
      ],
      "execution_count": null,
      "outputs": []
    },
    {
      "cell_type": "code",
      "metadata": {
        "id": "6casRHnuWq7K",
        "colab_type": "code",
        "colab": {}
      },
      "source": [
        "park['소재지도로명주소'].fillna(park['소재지지번주소'], inplace = True)"
      ],
      "execution_count": null,
      "outputs": []
    },
    {
      "cell_type": "code",
      "metadata": {
        "id": "ftyKZrGCWq7N",
        "colab_type": "code",
        "colab": {}
      },
      "source": [
        "park['소재지도로명주소'].isnull().sum()"
      ],
      "execution_count": null,
      "outputs": []
    },
    {
      "cell_type": "code",
      "metadata": {
        "id": "gHZt5kwKWq7Q",
        "colab_type": "code",
        "colab": {}
      },
      "source": [
        "park_loc = park.loc[(park['소재지도로명주소'].isnull()) & (park['소재지지번주소'].notnull())]\n",
        "park_loc.shape"
      ],
      "execution_count": null,
      "outputs": []
    },
    {
      "cell_type": "code",
      "metadata": {
        "id": "uInIgYECWq7S",
        "colab_type": "code",
        "colab": {}
      },
      "source": [
        "park['시도'] = park['소재지도로명주소'].str.split(' ', expand=True)[0]\n",
        "park.head(3)"
      ],
      "execution_count": null,
      "outputs": []
    },
    {
      "cell_type": "code",
      "metadata": {
        "id": "FsvPDFjVWq7V",
        "colab_type": "code",
        "colab": {}
      },
      "source": [
        "park['구군'] = park['소재지도로명주소'].str.split(' ', expand=True)[1]\n",
        "park.head(3)"
      ],
      "execution_count": null,
      "outputs": []
    },
    {
      "cell_type": "code",
      "metadata": {
        "id": "a8J0ibmeWq7Z",
        "colab_type": "code",
        "colab": {}
      },
      "source": [
        "# park.describe?"
      ],
      "execution_count": null,
      "outputs": []
    },
    {
      "cell_type": "code",
      "metadata": {
        "id": "k-bJnreNWq7c",
        "colab_type": "code",
        "colab": {}
      },
      "source": [
        "park_loc_notnull = park.loc[(park['위도'] > 32 ) & (124 < park['경도']) &(park['경도'] < 132) & park['시도'].notnull()]"
      ],
      "execution_count": null,
      "outputs": []
    },
    {
      "cell_type": "code",
      "metadata": {
        "id": "ijS7Oy6nWq7e",
        "colab_type": "code",
        "colab": {}
      },
      "source": [
        "park[['위도', '경도']].describe()"
      ],
      "execution_count": null,
      "outputs": []
    },
    {
      "cell_type": "code",
      "metadata": {
        "id": "Cqpt-VnKWq7g",
        "colab_type": "code",
        "colab": {}
      },
      "source": [
        "# 위 지도로 위도와 경도의 아웃라이어 데이터를 제외하고 출력해 봅니다.\n",
        "# 좀 더 정확하게 출력하려면 대한민국 위경도 데이터 범위를 다시 넣어줍니다. \n",
        "park_loc_notnull = park.loc[(park['위도'] > 32 ) & (park['경도'] < 132) & park['시도'].notnull()]\n",
        "park_loc_notnull.shape"
      ],
      "execution_count": null,
      "outputs": []
    },
    {
      "cell_type": "code",
      "metadata": {
        "id": "OJW9sK4QWq7i",
        "colab_type": "code",
        "colab": {}
      },
      "source": [
        "# 위경도가 잘못입력된 데이터를 봅니다.\n",
        "# 주소가 잘못되지는 않았습니다.\n",
        "# 주소를 통해 위경도를 다시 받아올 필요가 있습니다.\n",
        "park.loc[(park['위도'] < 26 ) | (park['경도'] >= 132)]"
      ],
      "execution_count": null,
      "outputs": []
    },
    {
      "cell_type": "code",
      "metadata": {
        "id": "dKeRlbY3Wq7l",
        "colab_type": "code",
        "colab": {}
      },
      "source": [
        "park_loc_notnull['시도'].value_counts()"
      ],
      "execution_count": null,
      "outputs": []
    },
    {
      "cell_type": "markdown",
      "metadata": {
        "id": "bjDKDOY0Wq7q",
        "colab_type": "text"
      },
      "source": [
        "# 시도별 공원 데이터"
      ]
    },
    {
      "cell_type": "code",
      "metadata": {
        "id": "eIPU-spkWq7q",
        "colab_type": "code",
        "colab": {}
      },
      "source": [
        "(ggplot(park_loc_notnull)\n",
        " + aes(x='경도', y='위도', color='시도')\n",
        " + geom_point()\n",
        " + theme(text=element_text(family='NanumBarunGothic'))\n",
        ")"
      ],
      "execution_count": null,
      "outputs": []
    },
    {
      "cell_type": "markdown",
      "metadata": {
        "id": "URWfSH0jWq7u",
        "colab_type": "text"
      },
      "source": [
        "### 공원구분별 분포"
      ]
    },
    {
      "cell_type": "code",
      "metadata": {
        "id": "2akJugU2Wq7u",
        "colab_type": "code",
        "colab": {}
      },
      "source": [
        "# 전국적으로 어린이 공원이 가장 많은 것으로 보입니다.\n",
        "# 제주도는 한라산 아래 해안선과 유사한 모습으로 공원이 배치되어 있는 모습이 인상적입니다.\n",
        "(ggplot(park_loc_notnull)\n",
        " + aes(x='경도', y='위도', color='공원구분', size='공원면적비율')\n",
        " + geom_point()\n",
        " + theme(text=element_text(family='NanumBarunGothic'))\n",
        ")"
      ],
      "execution_count": null,
      "outputs": []
    },
    {
      "cell_type": "markdown",
      "metadata": {
        "id": "rWx4QRz0Wq7x",
        "colab_type": "text"
      },
      "source": [
        "### 어린이 공원을 제외한  공원구분별 분포도"
      ]
    },
    {
      "cell_type": "code",
      "metadata": {
        "id": "BPfcVs4BWq7x",
        "colab_type": "code",
        "colab": {}
      },
      "source": [
        "# 어린이공원을 제외하고 찍어보도록 합니다.\n",
        "# 다음으로 많은 근린공원과 소공원이 많이 보입니다.\n",
        "(ggplot(park_loc_notnull.loc[park_loc_notnull['공원구분'] != '어린이공원'])\n",
        " + aes(x='경도', y='위도', color='공원구분', size='공원면적비율')\n",
        " + geom_point(alpha=0.2)\n",
        " + theme(text=element_text(family='NanumBarunGothic'))\n",
        ")"
      ],
      "execution_count": null,
      "outputs": []
    },
    {
      "cell_type": "code",
      "metadata": {
        "id": "KlOvd5mXWq7z",
        "colab_type": "code",
        "colab": {}
      },
      "source": [
        "park_loc_notnull.head()"
      ],
      "execution_count": null,
      "outputs": []
    },
    {
      "cell_type": "markdown",
      "metadata": {
        "id": "Rzen_qWjWq73",
        "colab_type": "text"
      },
      "source": [
        "### 시도별 공원 비율"
      ]
    },
    {
      "cell_type": "code",
      "metadata": {
        "id": "iYU2IkQpWq74",
        "colab_type": "code",
        "colab": {}
      },
      "source": [
        "# 시도별로 합계 데이터를 출력\n",
        "park_do = pd.DataFrame(park['시도'].value_counts())\n",
        "park_do_normalize = pd.DataFrame(park['시도'].value_counts(normalize=True))\n",
        "park_sido = park_do.merge(park_do_normalize, left_index=True, right_index=True).reset_index()\n",
        "park_sido.columns = ['시도', '합계', '비율']\n",
        "park_sido.sort_values(by=['합계'], ascending=False)\n",
        "park_sido"
      ],
      "execution_count": null,
      "outputs": []
    },
    {
      "cell_type": "code",
      "metadata": {
        "id": "XNsrPltuWq77",
        "colab_type": "code",
        "colab": {}
      },
      "source": [
        "# 경기도가 압도적으로 많음\n",
        "(ggplot(park_sido.sort_values(by=['합계'], ascending=False))\n",
        " + aes(x='시도', y='합계')\n",
        " + geom_bar(stat='identity', position='dodge', fill='green')\n",
        " + coord_flip()\n",
        " + theme(text=element_text(family='NanumBarunGothic'))\n",
        ")"
      ],
      "execution_count": null,
      "outputs": []
    },
    {
      "cell_type": "code",
      "metadata": {
        "id": "KfOz6zqtWq79",
        "colab_type": "code",
        "colab": {}
      },
      "source": [
        "park_type = park['공원구분'].value_counts().reset_index()\n",
        "park_type.columns = ('공원구분', '합계')\n",
        "park_type"
      ],
      "execution_count": null,
      "outputs": []
    },
    {
      "cell_type": "markdown",
      "metadata": {
        "id": "ZbsJqWbiWq8B",
        "colab_type": "text"
      },
      "source": [
        "### 공원구분별 합계"
      ]
    },
    {
      "cell_type": "code",
      "metadata": {
        "id": "qtA50znsWq8C",
        "colab_type": "code",
        "colab": {}
      },
      "source": [
        "(ggplot(park_type)\n",
        " + aes(x='공원구분', y='합계')\n",
        " + geom_bar(stat='identity', position='dodge', fill='green')\n",
        " + coord_flip()\n",
        " + theme(text=element_text(family='NanumBarunGothic'))\n",
        ")"
      ],
      "execution_count": null,
      "outputs": []
    },
    {
      "cell_type": "markdown",
      "metadata": {
        "id": "ZbsQrwuBWq8F",
        "colab_type": "text"
      },
      "source": [
        "## 경기도\n",
        "* 경기도에는 가장 많은 공원이 있습니다. \n",
        "* 어떻게 분포되어 있는지 보겠습니다."
      ]
    },
    {
      "cell_type": "code",
      "metadata": {
        "id": "PMBlGo0kWq8G",
        "colab_type": "code",
        "colab": {}
      },
      "source": [
        "gg = park.loc[park['시도'] == '경기도']\n",
        "gg.shape"
      ],
      "execution_count": null,
      "outputs": []
    },
    {
      "cell_type": "code",
      "metadata": {
        "id": "v0KjEoktWq8I",
        "colab_type": "code",
        "colab": {}
      },
      "source": [
        "gg_park = gg['공원구분'].value_counts().reset_index()\n",
        "gg_park.columns = ('공원구분', '합계')\n",
        "gg_park"
      ],
      "execution_count": null,
      "outputs": []
    },
    {
      "cell_type": "code",
      "metadata": {
        "id": "W5DvtM_QWq8L",
        "colab_type": "code",
        "colab": {}
      },
      "source": [
        "(ggplot(gg)\n",
        " + aes(x='경도', y='위도', color='공원구분', size='공원면적비율') \n",
        " + geom_point()\n",
        " + geom_jitter(color='lightgray', alpha=0.25)\n",
        " + theme(text=element_text(family='NanumBarunGothic'))\n",
        ")"
      ],
      "execution_count": null,
      "outputs": []
    },
    {
      "cell_type": "code",
      "metadata": {
        "id": "0awnQ0Q4Wq8N",
        "colab_type": "code",
        "colab": {}
      },
      "source": [
        "gg_suwon = gg.loc[gg['구군'] == '수원시']"
      ],
      "execution_count": null,
      "outputs": []
    },
    {
      "cell_type": "code",
      "metadata": {
        "id": "CzEJAl6VWq8P",
        "colab_type": "code",
        "colab": {}
      },
      "source": [
        "(ggplot(gg_suwon)\n",
        " + aes(x='경도', y='위도', color='공원구분', size='공원면적비율') \n",
        " + geom_point()\n",
        " + geom_jitter(color='lightgray', alpha=0.25)\n",
        " + theme(text=element_text(family='NanumBarunGothic'))\n",
        ")"
      ],
      "execution_count": null,
      "outputs": []
    },
    {
      "cell_type": "code",
      "metadata": {
        "id": "qFIzctB0Wq8R",
        "colab_type": "code",
        "colab": {}
      },
      "source": [
        "geo_df = gg_suwon\n",
        "map = folium.Map(location=[geo_df['위도'].mean(), geo_df['경도'].mean()], zoom_start=13)\n",
        "\n",
        "for n in geo_df.index:\n",
        "    park_name = geo_df.loc[n, '공원명'] + '-' + geo_df.loc[n, '소재지도로명주소']\n",
        "    icon_color = 'blue'\n",
        "    folium.CircleMarker(\n",
        "        location=[geo_df.loc[n, '위도'], geo_df.loc[n, '경도']],\n",
        "        radius=geo_df['공원면적비율'][n],\n",
        "        popup=park_name,\n",
        "        color=icon_color,\n",
        "        fill=True,\n",
        "        fill_color=icon_color\n",
        "    ).add_to(map)\n",
        "    \n",
        "map"
      ],
      "execution_count": null,
      "outputs": []
    },
    {
      "cell_type": "markdown",
      "metadata": {
        "id": "G84Sbq_sWq8T",
        "colab_type": "text"
      },
      "source": [
        "전체 공원을 다 찍어 보면 너무 많아서 잘 구분이 안 되기 때문에 몇 가지 공원만 따로 찍어 봅니다."
      ]
    },
    {
      "cell_type": "markdown",
      "metadata": {
        "id": "Lf3sFxCXWq8U",
        "colab_type": "text"
      },
      "source": [
        "## 경기도 일부 공원만 보기"
      ]
    },
    {
      "cell_type": "code",
      "metadata": {
        "id": "SOGbWbO9Wq8U",
        "colab_type": "code",
        "colab": {}
      },
      "source": [
        "park_type = r'.*((역사|체육|수변|문화|묘지)공원).*'\n",
        "gg_sample = gg.loc[gg['공원구분'].str.match(park_type)]"
      ],
      "execution_count": null,
      "outputs": []
    },
    {
      "cell_type": "code",
      "metadata": {
        "id": "dm2K-ga6Wq8Z",
        "colab_type": "code",
        "colab": {}
      },
      "source": [
        "gg_sample.shape"
      ],
      "execution_count": null,
      "outputs": []
    },
    {
      "cell_type": "code",
      "metadata": {
        "id": "zo0r2JqhWq8e",
        "colab_type": "code",
        "colab": {}
      },
      "source": [
        "(ggplot(gg_sample)\n",
        " + aes(x='경도', y='위도', color='공원구분') \n",
        " + geom_point()\n",
        " + geom_jitter(fill='green', color='lightgray', alpha=0.25)\n",
        " + theme(text=element_text(family='NanumBarunGothic'))\n",
        ")"
      ],
      "execution_count": null,
      "outputs": []
    },
    {
      "cell_type": "code",
      "metadata": {
        "id": "dwEM8WpxWq8i",
        "colab_type": "code",
        "colab": {}
      },
      "source": [
        "gg_sample.head(3)"
      ],
      "execution_count": null,
      "outputs": []
    },
    {
      "cell_type": "code",
      "metadata": {
        "id": "helKamb7Wq8k",
        "colab_type": "code",
        "colab": {}
      },
      "source": [
        "# 경기도 일부 공원만 지도에 표기\n",
        "geo_df = gg_sample\n",
        "\n",
        "map = folium.Map(location=[geo_df['위도'].mean(), geo_df['경도'].mean()], zoom_start=11)\n",
        "\n",
        "for n in geo_df.index:\n",
        "    park_name = geo_df.loc[n, '공원명'] + ' - ' + geo_df.loc[n, '소재지도로명주소']\n",
        "    folium.Marker([geo_df.loc[n, '위도'], geo_df.loc[n, '경도']], popup=park_name).add_to(map)\n",
        "    \n",
        "map"
      ],
      "execution_count": null,
      "outputs": []
    },
    {
      "cell_type": "markdown",
      "metadata": {
        "id": "S6lMF97FWq8p",
        "colab_type": "text"
      },
      "source": [
        "## 서울특별시"
      ]
    },
    {
      "cell_type": "code",
      "metadata": {
        "id": "BIzBsPAgWq8p",
        "colab_type": "code",
        "colab": {}
      },
      "source": [
        "seoul = park[park['시도'] == '서울특별시']\n",
        "seoul.shape"
      ],
      "execution_count": null,
      "outputs": []
    },
    {
      "cell_type": "code",
      "metadata": {
        "id": "4UEsCMI0Wq8t",
        "colab_type": "code",
        "colab": {}
      },
      "source": [
        "seoul.head()"
      ],
      "execution_count": null,
      "outputs": []
    },
    {
      "cell_type": "code",
      "metadata": {
        "id": "lmtvdnG6Wq8v",
        "colab_type": "code",
        "colab": {}
      },
      "source": [
        "(ggplot(seoul)\n",
        " + aes(x='경도', y='위도', color='공원구분') \n",
        " + geom_point()\n",
        " + theme(text=element_text(family='NanumBarunGothic'))\n",
        ")"
      ],
      "execution_count": null,
      "outputs": []
    },
    {
      "cell_type": "code",
      "metadata": {
        "id": "RZ8UBHVRWq8y",
        "colab_type": "code",
        "colab": {}
      },
      "source": [
        "seoul[seoul[\"경도\"] > 127.4]"
      ],
      "execution_count": null,
      "outputs": []
    },
    {
      "cell_type": "code",
      "metadata": {
        "id": "X0kJv4cOWq81",
        "colab_type": "code",
        "colab": {}
      },
      "source": [
        "seoul['공원구분'].value_counts()"
      ],
      "execution_count": null,
      "outputs": []
    },
    {
      "cell_type": "code",
      "metadata": {
        "id": "4MtzSTWpWq84",
        "colab_type": "code",
        "colab": {}
      },
      "source": [
        "seoul_playground = park.loc[(park['공원구분'] == '어린이공원') & (park['시도'] == '서울특별시')]\n",
        "seoul_playground.head()"
      ],
      "execution_count": null,
      "outputs": []
    },
    {
      "cell_type": "code",
      "metadata": {
        "id": "u4eArY-nWq86",
        "colab_type": "code",
        "colab": {}
      },
      "source": [
        "(ggplot(seoul)\n",
        " + aes(x='경도', y='위도', fill='구군')\n",
        " + geom_point()\n",
        " + theme(text=element_text(family='NanumBarunGothic'))\n",
        ")"
      ],
      "execution_count": null,
      "outputs": []
    },
    {
      "cell_type": "markdown",
      "metadata": {
        "id": "2i3zAVcFWq88",
        "colab_type": "text"
      },
      "source": [
        "## 구별 공원 분포"
      ]
    },
    {
      "cell_type": "code",
      "metadata": {
        "id": "t4AwRL8LWq88",
        "colab_type": "code",
        "colab": {}
      },
      "source": [
        "gu = '강남구 강동구 강북구 강서구 관악구 광진구 구로구 금천구 노원구 도봉구 동대문구 동작구 마포구 서대문구 서초구 성동구 성북구 송파구 양천구 영등포구 용산구 은평구 종로구 중구 중랑구'\n",
        "gu = gu.split(' ')\n",
        "print('서울에는 {}개의 구가 있다.'.format(len(gu)))"
      ],
      "execution_count": null,
      "outputs": []
    },
    {
      "cell_type": "code",
      "metadata": {
        "id": "s0iMHlcLWq8-",
        "colab_type": "code",
        "colab": {}
      },
      "source": [
        "# 무악동이 구군 데이터에 잘못 들어와 있다. 전처리 해줄 필요가 있다.\n",
        "seoul_gu = seoul['구군'].value_counts().reset_index()\n",
        "seoul_gu_count = seoul_gu.shape[0]\n",
        "seoul_gu.head()"
      ],
      "execution_count": null,
      "outputs": []
    },
    {
      "cell_type": "code",
      "metadata": {
        "id": "x75FFRdZWq9A",
        "colab_type": "code",
        "colab": {}
      },
      "source": [
        "seoul_gu.columns = ['구군', '합계']\n",
        "seoul_gu = seoul_gu.sort_values(by='합계', ascending=False)\n",
        "# 누락된 구를 찾기 위해 데이터프레임에 들어있는 구군을 추출한다.\n",
        "seoul_gu_unique = seoul_gu['구군'].unique()\n",
        "seoul_gu_unique"
      ],
      "execution_count": null,
      "outputs": []
    },
    {
      "cell_type": "code",
      "metadata": {
        "id": "ryrPrCZvWq9B",
        "colab_type": "code",
        "colab": {}
      },
      "source": [
        "exclude_gu = [g for g in gu if not g in seoul_gu_unique] \n",
        "print('누락된 구: {}'.format(exclude_gu))\n",
        "error_gu = [g for g in seoul_gu_unique if not g in gu] \n",
        "print('잘못들어간 구: {}'.format(error_gu))\n",
        "# 전체 구에서 누락된 구와 잘못들어간 구를 제외하고 계산해 본다.\n",
        "seoul_gu_count = len(gu) - len(exclude_gu) - len(error_gu)\n",
        "print('아래 데이터를 보니 몇개 구가 누락된것을 알 수 있다. 전체 {}개 구 중 {}개 구만 있다.'.format(len(gu), seoul_gu_count))\n",
        "seoul_gu"
      ],
      "execution_count": null,
      "outputs": []
    },
    {
      "cell_type": "markdown",
      "metadata": {
        "id": "fIwmnM7AWq9D",
        "colab_type": "text"
      },
      "source": [
        "### 강남3구 공원 분포"
      ]
    },
    {
      "cell_type": "code",
      "metadata": {
        "id": "O2dBDVNMWq9D",
        "colab_type": "code",
        "colab": {}
      },
      "source": [
        "# 위 데이터에서는 송파, 서초, 양천, 강남구에 공원이 많은 것으로 보여집니다.\n",
        "# 강남3구는 공원만 표시해 봅니다.\n",
        "geo_df = seoul.loc[seoul['구군'].str.match( r'((강남|서초|송파)구)')]\n",
        "geo_df = geo_df.loc[(geo_df['위도'].notnull()) & (geo_df['경도'].notnull())]\n",
        "geo_df.isnull().sum()"
      ],
      "execution_count": null,
      "outputs": []
    },
    {
      "cell_type": "code",
      "metadata": {
        "id": "GIgNqGdKWq9F",
        "colab_type": "code",
        "colab": {}
      },
      "source": [
        "# 서초구 데이터에 잘못된 위경도 데이터가 보입니다. \n",
        "(ggplot(geo_df)\n",
        " + aes(x='경도', y='위도', fill='구군', size='공원면적비율')\n",
        " + geom_point()\n",
        " + theme(text=element_text(family='NanumBarunGothic'))\n",
        ")"
      ],
      "execution_count": null,
      "outputs": []
    },
    {
      "cell_type": "code",
      "metadata": {
        "id": "Ce-YPnpVWq9J",
        "colab_type": "code",
        "colab": {}
      },
      "source": [
        "geo_df.shape"
      ],
      "execution_count": null,
      "outputs": []
    },
    {
      "cell_type": "code",
      "metadata": {
        "id": "j22CRHWzWq9N",
        "colab_type": "code",
        "colab": {}
      },
      "source": [
        "map = folium.Map(location=[geo_df['위도'].mean(), geo_df['경도'].mean()], zoom_start=13)\n",
        "\n",
        "for n in geo_df.index:\n",
        "    park_name = geo_df.loc[n, '공원명'] + ' - ' + geo_df.loc[n, '소재지도로명주소']\n",
        "    folium.Marker([geo_df.loc[n, '위도'], geo_df.loc[n, '경도']], popup=park_name).add_to(map)\n",
        "map"
      ],
      "execution_count": null,
      "outputs": []
    },
    {
      "cell_type": "markdown",
      "metadata": {
        "id": "zFP4OfCDWq9P",
        "colab_type": "text"
      },
      "source": [
        "### 누락 데이터"
      ]
    },
    {
      "cell_type": "markdown",
      "metadata": {
        "id": "YPyK8pyMWq9P",
        "colab_type": "text"
      },
      "source": [
        "* 공공데이터 포털에 확인해 보니 전국도시공원표준데이터.xls 외에 202개의 파일이 더 있습니다.\n",
        "* https://www.data.go.kr/dataset/15012890/standard.do"
      ]
    },
    {
      "cell_type": "markdown",
      "metadata": {
        "id": "_u9Ss-e2Wq9P",
        "colab_type": "text"
      },
      "source": [
        "* 그럼 서울시에 어린이 공원을 포함해 어떤 공원들이 있는지?"
      ]
    },
    {
      "cell_type": "code",
      "metadata": {
        "id": "ZhPRVtVvWq9Q",
        "colab_type": "code",
        "colab": {}
      },
      "source": [
        "# 서울에는 주로 어떤 공원이 있을까?\n",
        "seoul['공원구분'].value_counts()"
      ],
      "execution_count": null,
      "outputs": []
    },
    {
      "cell_type": "code",
      "metadata": {
        "id": "g3mH2-H3Wq9R",
        "colab_type": "code",
        "colab": {}
      },
      "source": [
        "# 경기도는 어떨까요?\n",
        "gg['공원구분'].value_counts()"
      ],
      "execution_count": null,
      "outputs": []
    },
    {
      "cell_type": "code",
      "metadata": {
        "id": "z0LPNc7BWq9T",
        "colab_type": "code",
        "colab": {}
      },
      "source": [
        "park.columns"
      ],
      "execution_count": null,
      "outputs": []
    },
    {
      "cell_type": "code",
      "metadata": {
        "id": "BL3TO_0yWq9W",
        "colab_type": "code",
        "colab": {}
      },
      "source": [
        "park_sq = seoul[['시도', '구군', '공원면적']]\n",
        "park_sq.head()"
      ],
      "execution_count": null,
      "outputs": []
    },
    {
      "cell_type": "markdown",
      "metadata": {
        "id": "a_w3Kd4rWq9Y",
        "colab_type": "text"
      },
      "source": [
        "# 제주도 "
      ]
    },
    {
      "cell_type": "code",
      "metadata": {
        "id": "NtDilaUZWq9Z",
        "colab_type": "code",
        "colab": {}
      },
      "source": [
        "jeju = park[park['시도'] == '제주특별자치도']\n",
        "jeju.shape"
      ],
      "execution_count": null,
      "outputs": []
    },
    {
      "cell_type": "code",
      "metadata": {
        "id": "5tjRH3GLWq9c",
        "colab_type": "code",
        "colab": {}
      },
      "source": [
        "(ggplot(jeju)\n",
        " + aes(x='경도', y='위도', fill='공원구분', size='공원면적비율')\n",
        " + geom_point()\n",
        " + theme(text=element_text(family='NanumBarunGothic'))\n",
        ")"
      ],
      "execution_count": null,
      "outputs": []
    },
    {
      "cell_type": "code",
      "metadata": {
        "id": "OOF2NhcVWq9f",
        "colab_type": "code",
        "colab": {}
      },
      "source": [
        "geo_df = jeju\n",
        "\n",
        "map = folium.Map(location=[geo_df['위도'].mean(), geo_df['경도'].mean()], zoom_start=10)\n",
        "\n",
        "for n in geo_df.index:\n",
        "    park_name = geo_df.loc[n, '공원명'] + ' - ' + geo_df.loc[n, '소재지도로명주소']\n",
        "    icon_color = 'red'\n",
        "    folium.features.CircleMarker(\n",
        "        location=[geo_df.loc[n, '위도'], geo_df.loc[n, '경도']],\n",
        "        radius=geo_df.loc[n, '공원면적비율'],\n",
        "        popup=park_name,\n",
        "        color= icon_color,\n",
        "        fill=True,\n",
        "        fill_color=icon_color\n",
        "    ).add_to(map)\n",
        "\n",
        "\n",
        "map"
      ],
      "execution_count": null,
      "outputs": []
    },
    {
      "cell_type": "code",
      "metadata": {
        "id": "OGj0zDdhWq9g",
        "colab_type": "code",
        "colab": {}
      },
      "source": [
        ""
      ],
      "execution_count": null,
      "outputs": []
    }
  ]
}