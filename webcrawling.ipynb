{
  "nbformat": 4,
  "nbformat_minor": 0,
  "metadata": {
    "colab": {
      "name": "webcrawling.ipynb",
      "provenance": [],
      "collapsed_sections": [],
      "authorship_tag": "ABX9TyMTxH8/5HRQ50XDRM8YJzPa",
      "include_colab_link": true
    },
    "kernelspec": {
      "display_name": "Python 3",
      "name": "python3"
    }
  },
  "cells": [
    {
      "cell_type": "markdown",
      "metadata": {
        "id": "view-in-github",
        "colab_type": "text"
      },
      "source": [
        "<a href=\"https://colab.research.google.com/github/jobsiggang/python/blob/master/webcrawling.ipynb\" target=\"_parent\"><img src=\"https://colab.research.google.com/assets/colab-badge.svg\" alt=\"Open In Colab\"/></a>"
      ]
    },
    {
      "cell_type": "markdown",
      "metadata": {
        "id": "h-I1QfpEpL7D"
      },
      "source": [
        "웹크롤링 -웹사이트의 정보를 분석하고 수집하는 작업"
      ]
    },
    {
      "cell_type": "markdown",
      "metadata": {
        "id": "RdLxM8A4_t63"
      },
      "source": [
        "다음의 실시간 검색순위확인"
      ]
    },
    {
      "cell_type": "code",
      "metadata": {
        "id": "W_S0XRvmNid8"
      },
      "source": [
        "import requests\n",
        "url='http://www.daum.net'\n",
        "response=requests.get(url)\n",
        "from bs4 import BeautifulSoup\n",
        "webpage=response.text\n",
        "soup=BeautifulSoup(webpage,'html.parser')\n",
        "favorlist=soup.find_all(\"a\",attrs={'class':'link_favorsch'})\n",
        "fav=[]\n",
        "for row in favorlist:\n",
        "  # print(row.text)\n",
        "  fav.append(row.text)\n",
        "print(fav)\n",
        "  "
      ],
      "execution_count": null,
      "outputs": []
    },
    {
      "cell_type": "markdown",
      "metadata": {
        "id": "OnuJU35K_qKO"
      },
      "source": [
        "우리학교 급식 확인"
      ]
    },
    {
      "cell_type": "code",
      "metadata": {
        "id": "lqrA6GowH2P2"
      },
      "source": [
        "from bs4 import BeautifulSoup\n",
        "import requests\n",
        "ymd=input('궁금한 급식날짜를입력하세요.예20200901 :    ')\n",
        "url='http://daehyun.hs.kr/daehyun-h/M01030701/list?ymd='+ymd\n",
        "response=requests.get(url)\n",
        "webpage=response.text\n",
        "#print(webpage)\n",
        "soup=BeautifulSoup(webpage,'html.parser')\n",
        "meal1=soup.find('a',{'href':'/daehyun-h/M01030701/list?ymd='+ymd}).text\n",
        "print(meal1)\n"
      ],
      "execution_count": null,
      "outputs": []
    },
    {
      "cell_type": "markdown",
      "metadata": {
        "id": "Vp7tku7HSL2Y"
      },
      "source": [
        " wiki에서 Beautifulsoup 검색"
      ]
    },
    {
      "cell_type": "code",
      "metadata": {
        "id": "DYKew-UYSLUn"
      },
      "source": [
        "from bs4 import BeautifulSoup\n",
        "from urllib.request import urlopen\n",
        "\n",
        "with urlopen('http://en.wikipedia.org/wiki/Main_Page') as response:\n",
        "    soup = BeautifulSoup(response, 'html.parser')\n",
        "    for anchor in soup.find_all('a'):\n",
        "        print(anchor.get('href', '/'))"
      ],
      "execution_count": null,
      "outputs": []
    }
  ]
}